{
 "cells": [
  {
   "cell_type": "code",
   "execution_count": 2,
   "id": "08aceb6a",
   "metadata": {},
   "outputs": [],
   "source": [
    "import streamlit as st\n",
    "import numpy as np\n",
    "import pandas as pd\n",
    "import torch\n",
    "import torch.nn.functional as F\n",
    "device = torch.device('cpu')"
   ]
  },
  {
   "cell_type": "code",
   "execution_count": 3,
   "id": "58a3169d",
   "metadata": {},
   "outputs": [],
   "source": [
    "# LOAD EVERYTHING\n",
    "def load_model(fp):\n",
    "    mdl = torch.jit.load(fp, map_location=device)\n",
    "    mdl.eval()\n",
    "    return mdl\n",
    "\n",
    "def load_utils(fp):\n",
    "    utils = pd.read_pickle(fp)\n",
    "    return utils\n",
    "\n",
    "def name2itemId(names):\n",
    "    if not isinstance(names, list):\n",
    "        names = [names]\n",
    "    return d['movieId'].transform([d_name2le[name] for name in names])"
   ]
  },
  {
   "cell_type": "code",
   "execution_count": 4,
   "id": "ab256f02",
   "metadata": {},
   "outputs": [],
   "source": [
    "fp = 'mdls/fm_pt.pkl'\n",
    "mdl = load_model(fp)\n",
    "\n",
    "fp = 'data/d_utils.pkl'\n",
    "utils = load_utils(fp)\n",
    "d = utils['label_encoder']\n",
    "feature_offsets = utils['feature_offsets']\n",
    "movie_offset = feature_offsets['movieId_index']\n",
    "movie_embs = utils['movie_embs']\n",
    "movies = utils['movies']\n",
    "d_name2le = utils['d_name2le']\n",
    "movie_list = sorted(movies.title.to_list())"
   ]
  },
  {
   "cell_type": "code",
   "execution_count": 5,
   "id": "6463f2c3",
   "metadata": {},
   "outputs": [
    {
     "name": "stdout",
     "output_type": "stream",
     "text": [
      "1.000 - Toy Story 2 (1999)\n",
      "0.795 - Toy Story (1995)\n",
      "0.625 - Babe (1995)\n",
      "0.596 - Bug's Life, A (1998)\n",
      "0.558 - Beauty and the Beast (1991)\n",
      "0.525 - Aladdin (1992)\n",
      "0.524 - Last Days, The (1998)\n",
      "0.522 - Illtown (1996)\n"
     ]
    }
   ],
   "source": [
    "# #GET RECOMMENDATIONS\n",
    "movie = 'Toy Story 2 (1999)'\n",
    "IDX = name2itemId(movie)[0] # movieId_idx in original data, after labelEncoder, before FM offset\n",
    "IDX = IDX + movie_offset # Add offset to get input movie emb\n",
    "emb_toy2 = mdl.x_emb(torch.tensor(IDX, device=device)) # Using embedding only here\n",
    "cosine_sim = torch.tensor(\n",
    "    [F.cosine_similarity(emb_toy2, emb, dim=0) for emb in movie_embs]\n",
    ")\n",
    "top8 = cosine_sim.argsort(descending=True)[:8]\n",
    "movie_sims = cosine_sim[top8]\n",
    "movie_recs = movies.iloc[top8.detach().numpy()]['title'].values\n",
    "for rec, sim in zip(movie_recs, movie_sims):\n",
    "    print(f'{sim.tolist():0.3f} - {rec}')"
   ]
  },
  {
   "cell_type": "code",
   "execution_count": 6,
   "id": "f43c90d0",
   "metadata": {},
   "outputs": [
    {
     "name": "stdout",
     "output_type": "stream",
     "text": [
      "gender\n",
      "0 : F\n",
      "1 : M\n",
      "age\n",
      "0 : 1\n",
      "1 : 18\n",
      "2 : 25\n",
      "3 : 35\n",
      "4 : 45\n",
      "5 : 50\n",
      "6 : 56\n"
     ]
    }
   ],
   "source": [
    "# For cold start, use metadata (age, gender) for recommendations\n",
    "# LabelEncoder.classes_ contains the map between integer and movielens metadata\n",
    "# Metadata info: https://files.grouplens.org/datasets/movielens/ml-1m-README.txt\n",
    "feats = ['gender', 'age']\n",
    "for feat in feats:\n",
    "    print(feat)\n",
    "    classes = d[feat].classes_\n",
    "    for i,c in enumerate(classes):\n",
    "        print(f'{i} : {c}')"
   ]
  },
  {
   "cell_type": "code",
   "execution_count": 65,
   "id": "c1fc5c4b",
   "metadata": {},
   "outputs": [
    {
     "name": "stdout",
     "output_type": "stream",
     "text": [
      "0 Shawshank Redemption, The (1994)\n",
      "1 Usual Suspects, The (1995)\n",
      "2 Life Is Beautiful (La Vita è bella) (1997)\n",
      "3 Braveheart (1995)\n",
      "4 Sanjuro (1962)\n",
      "5 Star Wars: Episode V - The Empire Strikes Back (1980)\n",
      "6 Star Wars: Episode IV - A New Hope (1977)\n",
      "7 Schindler's List (1993)\n"
     ]
    }
   ],
   "source": [
    "# Get movie recs for a male, ages 18-24\n",
    "idxs_movies = torch.tensor(movies['movieId_index'].values, device=device)\n",
    "movie_biases = mdl.x_bias[idxs_movies]\n",
    "\n",
    "GENDER = 1\n",
    "AGE = 1\n",
    "gender_emb = mdl.x_emb(\n",
    "    torch.tensor(feature_offsets['gender_index']+GENDER, device=device)\n",
    ")\n",
    "age_emb = mdl.x_emb(\n",
    "    torch.tensor(feature_offsets['age_index']+AGE, device=device)\n",
    ")\n",
    "metadata_emb = gender_emb + age_emb\n",
    "rankings = movie_biases + (metadata_emb*movie_embs).sum(1) # dot product\n",
    "rankings = rankings.detach()\n",
    "cold_start_recs = movies.iloc[rankings.argsort(descending=True)]['title'].values[:8]\n",
    "for i,rec in enumerate(cold_start_recs):\n",
    "    print(i,rec)"
   ]
  },
  {
   "cell_type": "code",
   "execution_count": 20,
   "id": "61f47ee7",
   "metadata": {},
   "outputs": [
    {
     "data": {
      "text/plain": [
       "{1: 0, 18: 1, 25: 2, 35: 3, 45: 4, 50: 5, 56: 6}"
      ]
     },
     "execution_count": 20,
     "metadata": {},
     "output_type": "execute_result"
    }
   ],
   "source": [
    "d_age_meta = {'Under 18': 1, '18-24': 18, '25-34': 25, '35-44': 35,\n",
    "              '45-49': 45, '50-55': 50, '56+': 56}\n",
    "d_age = dict(zip(d['age'].classes_, range(len(d['age'].classes_))))\n",
    "d_age"
   ]
  },
  {
   "cell_type": "code",
   "execution_count": 10,
   "id": "64641fd5",
   "metadata": {},
   "outputs": [
    {
     "name": "stderr",
     "output_type": "stream",
     "text": [
      "2023-07-05 14:39:44.612 \n",
      "  \u001b[33m\u001b[1mWarning:\u001b[0m to view this Streamlit app on a browser, run it with the following\n",
      "  command:\n",
      "\n",
      "    streamlit run /home/holynec/anaconda3/envs/streamlit/lib/python3.8/site-packages/ipykernel_launcher.py [ARGUMENTS]\n"
     ]
    },
    {
     "data": {
      "text/plain": [
       "0"
      ]
     },
     "execution_count": 10,
     "metadata": {},
     "output_type": "execute_result"
    }
   ],
   "source": [
    "dd = {0: 'Male', 1: 'Female'}\n",
    "st.selectbox('Gender', dd)"
   ]
  }
 ],
 "metadata": {
  "kernelspec": {
   "display_name": "Python 3 (ipykernel)",
   "language": "python",
   "name": "python3"
  },
  "language_info": {
   "codemirror_mode": {
    "name": "ipython",
    "version": 3
   },
   "file_extension": ".py",
   "mimetype": "text/x-python",
   "name": "python",
   "nbconvert_exporter": "python",
   "pygments_lexer": "ipython3",
   "version": "3.8.13"
  }
 },
 "nbformat": 4,
 "nbformat_minor": 5
}
